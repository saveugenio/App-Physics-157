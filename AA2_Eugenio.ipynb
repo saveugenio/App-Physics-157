{
  "nbformat": 4,
  "nbformat_minor": 0,
  "metadata": {
    "colab": {
      "provenance": [],
      "authorship_tag": "ABX9TyPvm0hWvmPt/d/6PJHpBOfq",
      "include_colab_link": true
    },
    "kernelspec": {
      "name": "python3",
      "display_name": "Python 3"
    },
    "language_info": {
      "name": "python"
    }
  },
  "cells": [
    {
      "cell_type": "markdown",
      "metadata": {
        "id": "view-in-github",
        "colab_type": "text"
      },
      "source": [
        "<a href=\"https://colab.research.google.com/github/saveugenio/App-Physics-157/blob/master/AA2_Eugenio.ipynb\" target=\"_parent\"><img src=\"https://colab.research.google.com/assets/colab-badge.svg\" alt=\"Open In Colab\"/></a>"
      ]
    },
    {
      "cell_type": "markdown",
      "source": [
        "# **AP157 Machine Learning Lab Assignment**\n",
        "## Module A.2: Classification -- Morphological Classification of Galaxies using Decision Trees"
      ],
      "metadata": {
        "id": "VaKaRIQJMFhr"
      }
    },
    {
      "cell_type": "markdown",
      "source": [
        "Mount the Google Drive where you saved the .npy file.\n",
        "\n",
        "When you run this cell, you will be asked to sign in to your Google account and you will get an authorization code. Paste the code on the provided cell to mount the Google Drive."
      ],
      "metadata": {
        "id": "Xoe-I-Kt-xv_"
      }
    },
    {
      "cell_type": "code",
      "execution_count": 3,
      "metadata": {
        "colab": {
          "base_uri": "https://localhost:8080/"
        },
        "id": "vzXx9UGu_63c",
        "outputId": "7be5bb93-b4e8-4f80-8112-572d11b3a24b"
      },
      "outputs": [
        {
          "output_type": "stream",
          "name": "stdout",
          "text": [
            "Mounted at /content/drive\n"
          ]
        }
      ],
      "source": [
        "from google.colab import drive\n",
        "drive.mount(\"/content/drive\")"
      ]
    },
    {
      "cell_type": "markdown",
      "source": [
        "Run this command to list the directories in your Google Drive and check\n",
        "\n",
        "*   List item\n",
        "*   List item\n",
        "\n",
        "that the mount was successful."
      ],
      "metadata": {
        "id": "aERdbq7M_Fi8"
      }
    },
    {
      "cell_type": "code",
      "source": [
        "!ls drive/My\\ Drive"
      ],
      "metadata": {
        "colab": {
          "base_uri": "https://localhost:8080/"
        },
        "id": "_vpWYYK_ARQC",
        "outputId": "222c4260-8636-4070-ad0e-6e9af5806890"
      },
      "execution_count": 4,
      "outputs": [
        {
          "output_type": "stream",
          "name": "stdout",
          "text": [
            " 0001-17824530857_20210305_154203_0000.png\n",
            "'1544(Eugenio,S).pdf'\n",
            " 20230310_164855.jpg\n",
            " 20230515_184231.jpg\n",
            "'20230615_155842 (1).jpg'\n",
            " 20230615_155842.jpg\n",
            " 20230727_122630.jpg\n",
            " 20230824_153307.jpg\n",
            " 2023-Residence-Hall-Agreement-Final_07282023.gdoc\n",
            " 20s.gsheet\n",
            " 2x2.jpg\n",
            " 421664637_742310301181229_3881557948928034532_n-removebg-preview.png\n",
            "'AA10_EugenioSA (1).docx'\n",
            "'AA10_EugenioSA (2).docx'\n",
            " AA10_EugenioSA.docx\n",
            "'AA11_EugenioSA (1).docx'\n",
            "'AA11_EugenioSA (1).gdoc'\n",
            " AA11_EugenioSA.docx\n",
            " AA11_EugenioSA.gdoc\n",
            "'AA3_Eugenio (1).docx'\n",
            " AA3_Eugenio.docx\n",
            " AA3_Eugenio.gdoc\n",
            " AA5_EugenioSA.docx\n",
            " AA6_EugenioSA.docx\n",
            " AA7_EugenioSA.docx\n",
            " AA8_EugenioSA.docx\n",
            "'Affidavit_Eugenio_Sandre Ann.pdf'\n",
            "'Anthropometric measurements_EugenioSA.docx'\n",
            " Ap157\n",
            "'authorization letter.pdf'\n",
            "'Bio 11 Midyear Schedule.pdf'\n",
            " Classroom\n",
            "'Colab Notebooks'\n",
            "'Copy of Grades_Eugenio_Sandre Ann.pdf'\n",
            "'Course Guide Agreement_EugenioSA.docx'\n",
            "'crs (1).PNG'\n",
            " crs.PNG\n",
            " DB3.gdoc\n",
            "'Dormer'\\''s Instruction Sheet (2022).docx.gdoc'\n",
            "'Dormer'\\''s Instruction Sheet_Eugenio (1).pdf'\n",
            "\"Dormer's Instruction Sheet_Eugenio.pdf\"\n",
            "'dorm offer.PNG'\n",
            "'E2 Data Sheet.xlsx'\n",
            " E3.gdoc\n",
            "'E4 Worksheet.pdf'\n",
            "'Edited - Eugenio_HW1.pdf'\n",
            "'Edited - Eugenio_HW2.pdf'\n",
            "'Eugenio_1_Effect of Individual Differences on the Jamming Transition  in Traffic Flow.pdf'\n",
            "'Eugenio_2_Velocity correlations and spatial dependencies between neighbors in a unidirectional flow of pedestrians.pdf'\n",
            "'Eugenio_3_Electron Ghost Imaging.pdf'\n",
            " Eugenio_HW1.pdf\n",
            " Eugenio_HW2.pdf\n",
            "'Eugenio_October 12-18.pdf'\n",
            "'EUGENIO_SANDRE ANN_202006584_GCASH.jpg'\n",
            "'EUGENIO_SANDRE ANN_202006584_ONLINE PAYMENT SLIP.pdf'\n",
            "'Eugenio, Sandre Ann - Chem 16, 16.1 grades.pdf'\n",
            "'Eugenio, Sandre Ann - Conforme for Medical Conditions.pdf'\n",
            "'Eugenio, Sandre Ann - Conforme for Request of Pdf Softcopy of Lab Manual.pdf'\n",
            "'Eugenio, Sandre Ann - Conforme for Syllabus Agreement.pdf'\n",
            "'Eugenio_Sandre Ann_Data Privacy Consent Form for M40 X4.pdf'\n",
            "'Eugenio, Sandre Ann.pdf'\n",
            "'EUGENIO, SANDRE ANN.pdf'\n",
            "'Eugenio_Sandre Ann_Prerequisite Form for M40 X4.pdf'\n",
            "'EUGENIO, SANDRE ANN, VILLANUEVA - TCG_2020-06584[sgd].pdf'\n",
            "'EUGENIO SA V - TCG_2020-06584[SIGNED] (1).pdf'\n",
            "'EUGENIO SA V - TCG_2020-06584[SIGNED].pdf'\n",
            "'Finals Notebook_Eugenio, Sandre.pdf'\n",
            "'FORM5_2020-06584-1st Sem 22-23 (1).pdf'\n",
            "'FORM5_2020-06584-1st Sem 22-23.pdf'\n",
            "'FORM5_2020-06584-2nd Sem 20-21.pdf'\n",
            "'FORM5_2020-06584-2nd Sem 21-22.pdf'\n",
            "'FORM5_2020-06584-2nd Sem 22-23 (1).pdf'\n",
            "'FORM5_2020-06584-2nd Sem 22-23.pdf'\n",
            "'Form 5_Eugenio_Sandre Ann.pdf'\n",
            "'Form5_Eugenio Sandre.pdf'\n",
            " GCash-09_____8292-04022023191650.PNG.jpg\n",
            " Grades_Eugenio.png\n",
            " IDPhoto_Eugenio.jpg\n",
            "'id picture.jpg'\n",
            " inbound1047440687846238263.jpg\n",
            " inbound1392599406868140621.pdf\n",
            " inbound1720722947854439281.pdf\n",
            " inbound1810095191177642394.jpg\n",
            " inbound1919858052380131083.jpg\n",
            " inbound1988970300215869319.jpg\n",
            " inbound2035013177407208840.jpg\n",
            " inbound2133036966342439532.jpg\n",
            " inbound2190513091913717605.jpg\n",
            " inbound236914884328872739.jpg\n",
            " inbound2527116842282511563.jpg\n",
            " inbound2694691366882875931.pdf\n",
            " inbound2748202222662499474.jpg\n",
            " inbound3037377666304206194.pdf\n",
            " inbound3136572912989258996.jpg\n",
            " inbound3146788308450227726.jpg\n",
            " inbound3453543049838781257.pdf\n",
            " inbound360065329271024154.pdf\n",
            " inbound3609555600216515313.jpg\n",
            " inbound3988652199217457161.jpg\n",
            " inbound4088783961134490059.jpg\n",
            " inbound4260005614764042039.jpg\n",
            " inbound4304691889903122616.jpg\n",
            " inbound4382966078834364589.jpg\n",
            " inbound4642036376809521416.pdf\n",
            "'inbound4915011704942081681 (1).pdf'\n",
            " inbound4915011704942081681.pdf\n",
            " inbound5091394937040064323.pdf\n",
            " inbound5206314905365251867.pdf\n",
            " inbound5411325610142932008.pdf\n",
            " inbound5488801441467389378.jpg\n",
            " inbound5511537144506624815.jpg\n",
            " inbound56420628172703233.jpg\n",
            " inbound5751712545299684876.jpg\n",
            " inbound5922957653614579475.jpg\n",
            " inbound6405208199676667527.jpg\n",
            " inbound6647552458203069357.jpg\n",
            " inbound6842950194152166241.pdf\n",
            " inbound6878610822740011473.jpg\n",
            " inbound6938524605909997151.jpg\n",
            " inbound7112058534340854833.pdf\n",
            " inbound7381728618420025144.jpg\n",
            " inbound7714182482008077064.jpg\n",
            " inbound7751212919432504914.pdf\n",
            " inbound7899868933227156098.pdf\n",
            " inbound7968810482666903454.pdf\n",
            " inbound8440191168998173721.pdf\n",
            " inbound8564064900945682080.pdf\n",
            " inbound8574739501113434472.jpg\n",
            " inbound8761903961523815384.pdf\n",
            " inbound8860346610183067509.jpg\n",
            " January2020PARQ_Eugenio.pdf\n",
            "'Letter of Endorsement (1).pdf'\n",
            "'Letter-of-Endorsement (1).pdf'\n",
            "'Letter-of-Endorsement (2).pdf'\n",
            "'Letter-of-Endorsement (3).pdf'\n",
            "'Letter-of-Endorsement (4).pdf'\n",
            "'Letter of Endorsement.pdf'\n",
            " Letter-of-Endorsement.pdf\n",
            "'Letter of intent_EugenioSA.pdf'\n",
            "'Midterm-notebook_EugenioSandre (1).pdf'\n",
            " Midterm-notebook_EugenioSandre.pdf\n",
            "'Midterm Notebook_Eugenio, Sandre.pdf'\n",
            " Midterm_ProblemSet_Eugenio.pdf\n",
            " Ness_Experiment.pdf\n",
            "'Ness_Programming_Easy (1).ipynb'\n",
            " Ness_Programming_Easy.ipynb\n",
            " Ness_Programming_Easy.pdf\n",
            " Notebook_finals_Eugenio.pdf\n",
            " ParQ-Plus-Jan-2023-Image-File.gdoc\n",
            "'PE 2 AEROBIC DANCE_Eugenio.docx'\n",
            " PE-2-Running-for-Fitness-9142020.pptx\n",
            "'Physics 107 Calendar.xlsx.pdf'\n",
            " Problem2.10.ipynb\n",
            "'Problem Set 1_EugenioSandre.pdf'\n",
            " Problem-set-2.pdf\n",
            "'Probset_Eugenio Sandre.pdf'\n",
            "'Proof of Address_Eugenio_Sandre Ann.pdf'\n",
            "'Proof of scholarship_Eugenio_Sandre Ann.pdf'\n",
            " Proof.pdf\n",
            "'PS 2 Physics 192'\n",
            "'RF: Eugenio, Sandre Ann'\n",
            "'Sandre Ann Eugenio - HW1.pdf'\n",
            "'Sandre Ann Eugenio - HW2.pdf'\n",
            " Screenshot_20220310_055713_com.facebook.katana.jpg\n",
            " Screenshot_20220815-161307_Facebook.jpg\n",
            " Screenshot_20230215-081525_Chrome.jpg\n",
            " Screenshot_20230215-081645_Chrome.jpg\n",
            " Screenshot_20230215-161401_Gmail.jpg\n",
            " Screenshot_20230215-161524_Gmail.jpg\n",
            " Screenshot_20230215-163906_Facebook.jpg\n",
            " Screenshot_20230310-142225_Chrome.jpg\n",
            " Screenshot_20230310-165117_Gmail.jpg\n",
            " Screenshot_20230515-184012_Gmail.jpg\n",
            " Screenshot_20230516-121404_Gmail.jpg\n",
            " Screenshot_20230615-173907_Gmail.jpg\n",
            " Screenshot_20230616-145547_Gmail.jpg\n",
            " Screenshot_20230727-121100_Gmail.jpg\n",
            " Screenshot_20230727-162223_Gmail.jpg\n",
            " Screenshot_20230907-163057_Chrome.jpg\n",
            " Screenshot_20230922-125506_Gmail.jpg\n",
            " Screenshot_20230925-100729_Gmail.jpg\n",
            " Screenshot_20231024-200503_Drive.jpg\n",
            " Screenshot_20231024-200641_Gmail.jpg\n",
            " Screenshot_20231024-200722_Gmail.jpg\n",
            " Screenshot_20231212-083341_Gmail.jpg\n",
            " Screenshot_20231213-083335_Gmail.jpg\n",
            " Screenshot_20240111-154517_GCash.jpg\n",
            " Screenshot_20240216-155654_Facebook.jpg\n",
            "'signed UPD RH guidelines_Eugenio.pdf'\n",
            "'TCG_Eugenio Sandre.pdf'\n",
            " Untitled0.ipynb\n",
            " Untitled1.ipynb\n",
            " Untitled2.ipynb\n",
            "'Untitled document (1).gdoc'\n",
            "'Untitled document (2).gdoc'\n",
            "'Untitled document (3).gdoc'\n",
            "'Untitled document (4).gdoc'\n",
            "'Untitled document (5).gdoc'\n",
            "'Untitled document.gdoc'\n",
            "'Vaccination Card_Eugenio_Sandre Ann (1).pdf'\n",
            "'Vaccination Card_Eugenio_Sandre Ann.pdf'\n",
            "'vax card (1).jpg'\n",
            "'vax card.jpg'\n",
            " VIDEO_20210321_135557.mp4\n",
            " VIDEO_20210330_115358.mp4\n",
            "'WAIVER OF LIABILITY, ASSUMPTION OF RISK, AND INDEMNITY AGREEMENT.gdoc'\n"
          ]
        }
      ]
    },
    {
      "cell_type": "markdown",
      "source": [
        "Define the directory path to the location of the file, i.e. if it is in a\n",
        "folder named \"AP157\" under My Drive, then the file path will be \"/content/drive/My Drive/AP157\". Change the string variable in the code cell below, as needed:"
      ],
      "metadata": {
        "id": "fwfOsh4J_L12"
      }
    },
    {
      "cell_type": "code",
      "source": [
        "file_path = \"/content/drive/My Drive/Ap157/Datasets/\""
      ],
      "metadata": {
        "id": "4AWwdu4FCrrC"
      },
      "execution_count": 5,
      "outputs": []
    },
    {
      "cell_type": "markdown",
      "source": [
        "Now, we can load the file using $\\tt numpy$'s $\\tt load$ function below.\n",
        "\n",
        "\n",
        "\n"
      ],
      "metadata": {
        "id": "fAygDi8D_Rkh"
      }
    },
    {
      "cell_type": "code",
      "source": [
        "import numpy as np\n",
        "import os\n",
        "import sys\n",
        "import pandas as pd\n",
        "\n",
        "data = np.load(file_path + \"galaxy_catalogue.npy\")"
      ],
      "metadata": {
        "id": "VCrK5oHeC9h7"
      },
      "execution_count": 6,
      "outputs": []
    },
    {
      "cell_type": "markdown",
      "source": [
        "Print out the first couple of rows. Note that the columns are: $u-g$, $g-r$, $r-i$, $i-z$, eccentricity, $m_u$, $m_g$, $m_r$, $m_i$, $m_z$, $R_{50,u}$, $R_{50,r}$, $R_{50,z}$, $R_{90,u}$, $R_{90,r}$, $R_{90,z}$, and class."
      ],
      "metadata": {
        "id": "Jgx2sVV9_WOw"
      }
    },
    {
      "cell_type": "code",
      "source": [
        "data[:2]"
      ],
      "metadata": {
        "colab": {
          "base_uri": "https://localhost:8080/"
        },
        "id": "hxOonUj1DT6T",
        "outputId": "9154bfa3-8231-4801-dc9d-2a326c8d5c72"
      },
      "execution_count": 7,
      "outputs": [
        {
          "output_type": "execute_result",
          "data": {
            "text/plain": [
              "array([(1.85765, 0.67158, 0.4231 , 0.3061 , 0.5854284, 2.251946, 2.339849, 2.380652, 2.359738, 2.395528, 3.095123, 3.818919, 3.82623 , 5.174814, 8.263009, 11.47734 , 'merger'),\n",
              "       (1.74259, 0.86085, 0.44927, 0.28851, 0.7498125, 2.031566, 2.084156, 2.092272, 2.124075, 2.133154, 1.430436, 1.422533, 1.385727, 3.732712, 3.416921,  3.330347, 'merger')],\n",
              "      dtype=[('u-g', '<f8'), ('g-r', '<f8'), ('r-i', '<f8'), ('i-z', '<f8'), ('ecc', '<f8'), ('m4_u', '<f8'), ('m4_g', '<f8'), ('m4_r', '<f8'), ('m4_i', '<f8'), ('m4_z', '<f8'), ('petroR50_u', '<f8'), ('petroR50_r', '<f8'), ('petroR50_z', '<f8'), ('petroR90_u', '<f8'), ('petroR90_r', '<f8'), ('petroR90_z', '<f8'), ('class', '<U20')])"
            ]
          },
          "metadata": {},
          "execution_count": 7
        }
      ]
    },
    {
      "cell_type": "markdown",
      "source": [
        "#### PART 1 - Get features and targets *(20 pts.)*\n",
        "\n",
        "Write a function ```get_features_targets``` that splits the dataset into input features and their corresponding targets. In our case, the inputs are the 4 galaxy colors ($u-g$, $g-r$, $r-i$, and $i-z$), eccentricity, $ugriz$ magnitudes, and concentrations $R_{50}/R_{90}$ in the $u$, $r$, and $z$ bands. The targets are the classes.\n",
        "\n",
        "Here's an example of how your function should work:\n",
        "```\n",
        ">>> features, targets = get_features_targets(data)\n",
        ">>> print(\"Features shape:\", features.shape\n",
        ">>> print(\"Targets shape:\", targets.shape)\n",
        "Features shape: (780, 13)\n",
        "Targets shape: (780,)\n",
        "```"
      ],
      "metadata": {
        "id": "tqp8bskO-ln6"
      }
    },
    {
      "cell_type": "markdown",
      "source": [
        "Calculate ratios and select specific columns as features"
      ],
      "metadata": {
        "id": "88Z4OxNiLoVP"
      }
    },
    {
      "cell_type": "markdown",
      "source": [
        "Note the following terms:\n",
        "\n",
        "**u-g** : color index between the ultraviolet and green bands\n",
        "\n",
        "**g-r** : color index between the green and red bands\n",
        "\n",
        "**r-i** : color index between the red and infrared bands\n",
        "\n",
        "**i-z** : color index between the infrared and near-infrared bands"
      ],
      "metadata": {
        "id": "0r1qLDeZysRV"
      }
    },
    {
      "cell_type": "code",
      "source": [
        "# store the data in a DataFrame and process them to create input features and target classes\n",
        "data_array = pd.DataFrame(data)\n",
        "\n",
        "#For data processing, we create these new arrays\n",
        "R_u = data_array['petroR50_u']/data_array['petroR90_u']\n",
        "R_r = data_array['petroR50_r']/data_array['petroR90_r']\n",
        "R_z = data_array['petroR50_z']/data_array['petroR90_z']\n",
        "\n",
        "\n",
        "#Create an array containing the selected features (color indices, eccentricity, magnitudes in the bands, ratios of petrosian radius to bands)\n",
        "Tfeatures = np.array([data_array['u-g'],\n",
        "                      data_array['g-r'],\n",
        "                      data_array['r-i'],\n",
        "                      data_array['i-z'],\n",
        "                      data_array['ecc'],\n",
        "                      data_array['m4_u'],\n",
        "                      data_array['m4_g'],\n",
        "                      data_array['m4_r'],\n",
        "                      data_array['m4_i'],\n",
        "                      data_array['m4_z'],\n",
        "                      R_u, R_r, R_z,])\n",
        "features = np.transpose(Tfeatures) #Each row corresponds to the observation, each column corresponds to feature\n",
        "\n",
        "targets = data_array['class'] #Extract the target classes\n",
        "\n",
        "print(\"Features shape:\", features.shape)\n",
        "print(\"Targets shape:\", targets.shape)\n",
        "print(targets)\n",
        "\n",
        "\n",
        "#credits to Kaye and her sources for the code"
      ],
      "metadata": {
        "colab": {
          "base_uri": "https://localhost:8080/"
        },
        "id": "SyjTkTa3MhRU",
        "outputId": "8d3e0872-0e3c-48e8-e687-32c0a4b6c192"
      },
      "execution_count": 8,
      "outputs": [
        {
          "output_type": "stream",
          "name": "stdout",
          "text": [
            "Features shape: (780, 13)\n",
            "Targets shape: (780,)\n",
            "0      merger\n",
            "1      merger\n",
            "2      merger\n",
            "3      merger\n",
            "4      merger\n",
            "        ...  \n",
            "775    spiral\n",
            "776    spiral\n",
            "777    spiral\n",
            "778    spiral\n",
            "779    spiral\n",
            "Name: class, Length: 780, dtype: object\n"
          ]
        }
      ]
    },
    {
      "cell_type": "markdown",
      "source": [
        "#### PART 2 - Train and run a decision tree model *(40 pts.)*\n",
        "\n",
        "Write a function ```predict_class``` that will train and validate a model that predicts a galaxy's class from its photometric properties. In particular, it should do the following:\n",
        "1. Split the dataset into a training and test dataset using an 80:20 split.\n",
        "2. Train the input model using the training dataset features and targets.\n",
        "3. Return two arrays-- the predicted and actual class of the test galaxies.\n",
        "\n",
        "Here's an example of how your function should work:\n",
        "```\n",
        "import numpy as np\n",
        "from sklearn.tree import DecisionTreeClassifier\n",
        "\n",
        "data = np.load(file_path + 'galaxy_catalogue.npy')\n",
        "predicted_class, actual_class = predict_class(data)\n",
        "\n",
        "for i in np.arange(3):\n",
        "   print(\"%d, %s, %s\" & (i, predicted_class[i], actual_class[i]))\n",
        "```"
      ],
      "metadata": {
        "id": "FJeZhTmCMsn3"
      }
    },
    {
      "cell_type": "code",
      "source": [
        "from sklearn.model_selection import train_test_split\n",
        "from sklearn.tree import DecisionTreeClassifier"
      ],
      "metadata": {
        "id": "lOkvp7EWOR6V"
      },
      "execution_count": 9,
      "outputs": []
    },
    {
      "cell_type": "markdown",
      "source": [
        "Define a function that takes a set of features and their corresponding target classes. It the splits the data into training set and test set. It will also train a decision tree classifier on the training data.Then, it returns the predicted classes."
      ],
      "metadata": {
        "id": "s-HttAtROWag"
      }
    },
    {
      "cell_type": "code",
      "source": [
        "def predict_class(features, targets):\n",
        "    # Split the data into a training set (80%) and test dataset (20%)\n",
        "    x_train, x_test, y_train, y_test = train_test_split(features, targets, test_size=0.2, random_state=42)\n",
        "\n",
        "    # Create an instance of the decision tree classifier\n",
        "    classifier = DecisionTreeClassifier()\n",
        "    classifier.fit(x_train, y_train)\n",
        "\n",
        "    # Train the classifier on a given dataset\n",
        "    classifier.fit(x_train, y_train)\n",
        "\n",
        "    #  make predictions on the test dataset\n",
        "    predicted_class = classifier.predict(x_test)\n",
        "\n",
        "    return predicted_class, y_test"
      ],
      "metadata": {
        "id": "4KnkA4ZeQmw9"
      },
      "execution_count": 23,
      "outputs": []
    },
    {
      "cell_type": "markdown",
      "source": [
        "Evaluate the performance of the classifier by comparing its predictions with the actual labels."
      ],
      "metadata": {
        "id": "mD9zVWN9RcHf"
      }
    },
    {
      "cell_type": "code",
      "source": [
        "from sklearn.metrics import confusion_matrix, accuracy_score\n",
        "\n",
        "#Calculate the accuracy\n",
        "accuracy = accuracy_score(actual_class, predicted_class)\n",
        "print(\"Accuracy: \", accuracy)\n",
        "\n",
        "#Calculate confusion matrix\n",
        "conf_matrix = confusion_matrix(actual_class, predicted_class)\n",
        "print(\"Confusion Matrix:\")\n",
        "print(conf_matrix)\n"
      ],
      "metadata": {
        "colab": {
          "base_uri": "https://localhost:8080/"
        },
        "id": "YIcWOLIrRo4R",
        "outputId": "dac9441e-627a-4b8d-b1b6-76970aa32c8c"
      },
      "execution_count": 29,
      "outputs": [
        {
          "output_type": "stream",
          "name": "stdout",
          "text": [
            "Accuracy:  0.7371794871794872\n",
            "Confusion Matrix:\n",
            "[[48  7  0]\n",
            " [ 4 35 10]\n",
            " [ 0 20 32]]\n"
          ]
        }
      ]
    },
    {
      "cell_type": "code",
      "source": [
        "#to provide a comprehensive summary of the performance of the classifier, here's a classification report\n",
        "\n",
        "from sklearn.metrics import classification_report\n",
        "\n",
        "classification_rep = classification_report(actual_class, predicted_class)\n",
        "print(\"classification report:\", classification_rep)"
      ],
      "metadata": {
        "colab": {
          "base_uri": "https://localhost:8080/"
        },
        "id": "e_TL7-Ui9D9r",
        "outputId": "c6cb4771-d724-42db-aa42-db519a3198dd"
      },
      "execution_count": 30,
      "outputs": [
        {
          "output_type": "stream",
          "name": "stdout",
          "text": [
            "classification report:               precision    recall  f1-score   support\n",
            "\n",
            "  elliptical       0.92      0.87      0.90        55\n",
            "      merger       0.56      0.71      0.63        49\n",
            "      spiral       0.76      0.62      0.68        52\n",
            "\n",
            "    accuracy                           0.74       156\n",
            "   macro avg       0.75      0.73      0.74       156\n",
            "weighted avg       0.76      0.74      0.74       156\n",
            "\n"
          ]
        }
      ]
    },
    {
      "cell_type": "markdown",
      "source": [
        "Create a heatmap visualization of the confusion matrix"
      ],
      "metadata": {
        "id": "CDcPXkjaTxoc"
      }
    },
    {
      "cell_type": "code",
      "source": [
        "import seaborn as sns\n",
        "import matplotlib.pyplot as plt\n",
        "\n",
        "plt.figure(figsize = (8,6))\n",
        "sns.heatmap(conf_matrix, annot=True, fmt='d', cmap='Reds', cbar=False,\n",
        "            xticklabels=['elliptical', 'spiral', 'merger'],\n",
        "            yticklabels=['elliptical', 'spiral', 'merger'])\n",
        "plt.xlabel('Predicted')\n",
        "plt.ylabel('Actual')\n",
        "plt.title('Confusion Matrix')\n",
        "plt.show()"
      ],
      "metadata": {
        "colab": {
          "base_uri": "https://localhost:8080/",
          "height": 564
        },
        "id": "lqCDPx7ORwNi",
        "outputId": "784611b0-a9d2-4b15-d553-b6694ffa6264"
      },
      "execution_count": 13,
      "outputs": [
        {
          "output_type": "display_data",
          "data": {
            "text/plain": [
              "<Figure size 800x600 with 1 Axes>"
            ],
            "image/png": "[encoded data removed]"
          },
          "metadata": {}
        }
      ]
    }
  ]
}